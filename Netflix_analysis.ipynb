{
 "cells": [
  {
   "cell_type": "code",
   "execution_count": 68,
   "id": "28028872",
   "metadata": {},
   "outputs": [],
   "source": [
    "import pandas as pd"
   ]
  },
  {
   "cell_type": "markdown",
   "id": "091a31d5",
   "metadata": {},
   "source": [
    "#### Load our file into a dataframe"
   ]
  },
  {
   "cell_type": "code",
   "execution_count": 69,
   "id": "20d416c7",
   "metadata": {},
   "outputs": [],
   "source": [
    "df = pd.read_csv(r'C:\\Users\\ukluk\\Documents\\netflix data\\CONTENT_INTERACTION\\ViewingActivity.csv')\n"
   ]
  },
  {
   "cell_type": "markdown",
   "id": "ea02c29f",
   "metadata": {},
   "source": [
    "#### .head() prints first 5 rows of spreadsheet"
   ]
  },
  {
   "cell_type": "code",
   "execution_count": 70,
   "id": "12b50a7b",
   "metadata": {
    "scrolled": true
   },
   "outputs": [
    {
     "data": {
      "text/html": [
       "<div>\n",
       "<style scoped>\n",
       "    .dataframe tbody tr th:only-of-type {\n",
       "        vertical-align: middle;\n",
       "    }\n",
       "\n",
       "    .dataframe tbody tr th {\n",
       "        vertical-align: top;\n",
       "    }\n",
       "\n",
       "    .dataframe thead th {\n",
       "        text-align: right;\n",
       "    }\n",
       "</style>\n",
       "<table border=\"1\" class=\"dataframe\">\n",
       "  <thead>\n",
       "    <tr style=\"text-align: right;\">\n",
       "      <th></th>\n",
       "      <th>Profile Name</th>\n",
       "      <th>Start Time</th>\n",
       "      <th>Duration</th>\n",
       "      <th>Attributes</th>\n",
       "      <th>Title</th>\n",
       "      <th>Supplemental Video Type</th>\n",
       "      <th>Device Type</th>\n",
       "      <th>Bookmark</th>\n",
       "      <th>Latest Bookmark</th>\n",
       "      <th>Country</th>\n",
       "    </tr>\n",
       "  </thead>\n",
       "  <tbody>\n",
       "    <tr>\n",
       "      <th>0</th>\n",
       "      <td>ukluke123</td>\n",
       "      <td>2022-04-23 22:59:54</td>\n",
       "      <td>00:24:36</td>\n",
       "      <td>Autoplayed: user action: User_Interaction;</td>\n",
       "      <td>Fresh, Fried &amp; Crispy: Season 1: St. Louis (Ep...</td>\n",
       "      <td>NaN</td>\n",
       "      <td>Samsung 2018 Kant-M2 UHD TV Smart TV</td>\n",
       "      <td>00:24:36</td>\n",
       "      <td>00:24:36</td>\n",
       "      <td>GB (United Kingdom)</td>\n",
       "    </tr>\n",
       "    <tr>\n",
       "      <th>1</th>\n",
       "      <td>ukluke123</td>\n",
       "      <td>2022-04-23 22:58:54</td>\n",
       "      <td>00:00:05</td>\n",
       "      <td>Autoplayed: user action: None;</td>\n",
       "      <td>Limited Series Informative Clip: Anatomy of a ...</td>\n",
       "      <td>HOOK</td>\n",
       "      <td>Samsung 2018 Kant-M2 UHD TV Smart TV</td>\n",
       "      <td>00:00:05</td>\n",
       "      <td>00:00:05</td>\n",
       "      <td>GB (United Kingdom)</td>\n",
       "    </tr>\n",
       "    <tr>\n",
       "      <th>2</th>\n",
       "      <td>ukluke123</td>\n",
       "      <td>2022-04-22 11:35:05</td>\n",
       "      <td>01:49:05</td>\n",
       "      <td>Autoplayed: user action: User_Interaction;</td>\n",
       "      <td>Justice League</td>\n",
       "      <td>NaN</td>\n",
       "      <td>Samsung 2015 Hawk-M UHD TV</td>\n",
       "      <td>01:49:05</td>\n",
       "      <td>01:49:05</td>\n",
       "      <td>GB (United Kingdom)</td>\n",
       "    </tr>\n",
       "    <tr>\n",
       "      <th>3</th>\n",
       "      <td>ukluke123</td>\n",
       "      <td>2022-04-19 18:45:36</td>\n",
       "      <td>00:01:31</td>\n",
       "      <td>NaN</td>\n",
       "      <td>Season 1 Trailer: Is It Cake?</td>\n",
       "      <td>TRAILER</td>\n",
       "      <td>Samsung 2015 Hawk-M UHD TV</td>\n",
       "      <td>00:01:31</td>\n",
       "      <td>00:01:31</td>\n",
       "      <td>GB (United Kingdom)</td>\n",
       "    </tr>\n",
       "    <tr>\n",
       "      <th>4</th>\n",
       "      <td>ukluke123</td>\n",
       "      <td>2022-04-19 18:44:14</td>\n",
       "      <td>00:01:19</td>\n",
       "      <td>NaN</td>\n",
       "      <td>Season 2 Trailer: Animal</td>\n",
       "      <td>TRAILER</td>\n",
       "      <td>Samsung 2015 Hawk-M UHD TV</td>\n",
       "      <td>00:01:19</td>\n",
       "      <td>00:01:19</td>\n",
       "      <td>GB (United Kingdom)</td>\n",
       "    </tr>\n",
       "  </tbody>\n",
       "</table>\n",
       "</div>"
      ],
      "text/plain": [
       "  Profile Name           Start Time  Duration  \\\n",
       "0    ukluke123  2022-04-23 22:59:54  00:24:36   \n",
       "1    ukluke123  2022-04-23 22:58:54  00:00:05   \n",
       "2    ukluke123  2022-04-22 11:35:05  01:49:05   \n",
       "3    ukluke123  2022-04-19 18:45:36  00:01:31   \n",
       "4    ukluke123  2022-04-19 18:44:14  00:01:19   \n",
       "\n",
       "                                    Attributes  \\\n",
       "0  Autoplayed: user action: User_Interaction;    \n",
       "1              Autoplayed: user action: None;    \n",
       "2  Autoplayed: user action: User_Interaction;    \n",
       "3                                          NaN   \n",
       "4                                          NaN   \n",
       "\n",
       "                                               Title Supplemental Video Type  \\\n",
       "0  Fresh, Fried & Crispy: Season 1: St. Louis (Ep...                     NaN   \n",
       "1  Limited Series Informative Clip: Anatomy of a ...                    HOOK   \n",
       "2                                     Justice League                     NaN   \n",
       "3                      Season 1 Trailer: Is It Cake?                 TRAILER   \n",
       "4                           Season 2 Trailer: Animal                 TRAILER   \n",
       "\n",
       "                            Device Type  Bookmark Latest Bookmark  \\\n",
       "0  Samsung 2018 Kant-M2 UHD TV Smart TV  00:24:36        00:24:36   \n",
       "1  Samsung 2018 Kant-M2 UHD TV Smart TV  00:00:05        00:00:05   \n",
       "2            Samsung 2015 Hawk-M UHD TV  01:49:05        01:49:05   \n",
       "3            Samsung 2015 Hawk-M UHD TV  00:01:31        00:01:31   \n",
       "4            Samsung 2015 Hawk-M UHD TV  00:01:19        00:01:19   \n",
       "\n",
       "               Country  \n",
       "0  GB (United Kingdom)  \n",
       "1  GB (United Kingdom)  \n",
       "2  GB (United Kingdom)  \n",
       "3  GB (United Kingdom)  \n",
       "4  GB (United Kingdom)  "
      ]
     },
     "execution_count": 70,
     "metadata": {},
     "output_type": "execute_result"
    }
   ],
   "source": [
    "df.head()"
   ]
  },
  {
   "cell_type": "markdown",
   "id": "cb205739",
   "metadata": {},
   "source": [
    "#### drop unncecesary collums axis=1 drops collum (axis=0 would drop index)"
   ]
  },
  {
   "cell_type": "code",
   "execution_count": 37,
   "id": "317908a9",
   "metadata": {},
   "outputs": [],
   "source": [
    "df = df.drop([\"Profile Name\", \"Attributes\", \"Supplemental Video Type\", \"Device Type\", \"Bookmark\", \"Latest Bookmark\", \"Country\"], axis=1)"
   ]
  },
  {
   "cell_type": "code",
   "execution_count": 38,
   "id": "93b07df6",
   "metadata": {},
   "outputs": [
    {
     "data": {
      "text/html": [
       "<div>\n",
       "<style scoped>\n",
       "    .dataframe tbody tr th:only-of-type {\n",
       "        vertical-align: middle;\n",
       "    }\n",
       "\n",
       "    .dataframe tbody tr th {\n",
       "        vertical-align: top;\n",
       "    }\n",
       "\n",
       "    .dataframe thead th {\n",
       "        text-align: right;\n",
       "    }\n",
       "</style>\n",
       "<table border=\"1\" class=\"dataframe\">\n",
       "  <thead>\n",
       "    <tr style=\"text-align: right;\">\n",
       "      <th></th>\n",
       "      <th>Start Time</th>\n",
       "      <th>Duration</th>\n",
       "      <th>Title</th>\n",
       "    </tr>\n",
       "  </thead>\n",
       "  <tbody>\n",
       "    <tr>\n",
       "      <th>0</th>\n",
       "      <td>2022-04-23 22:59:54</td>\n",
       "      <td>00:24:36</td>\n",
       "      <td>Fresh, Fried &amp; Crispy: Season 1: St. Louis (Ep...</td>\n",
       "    </tr>\n",
       "    <tr>\n",
       "      <th>1</th>\n",
       "      <td>2022-04-23 22:58:54</td>\n",
       "      <td>00:00:05</td>\n",
       "      <td>Limited Series Informative Clip: Anatomy of a ...</td>\n",
       "    </tr>\n",
       "    <tr>\n",
       "      <th>2</th>\n",
       "      <td>2022-04-22 11:35:05</td>\n",
       "      <td>01:49:05</td>\n",
       "      <td>Justice League</td>\n",
       "    </tr>\n",
       "    <tr>\n",
       "      <th>3</th>\n",
       "      <td>2022-04-19 18:45:36</td>\n",
       "      <td>00:01:31</td>\n",
       "      <td>Season 1 Trailer: Is It Cake?</td>\n",
       "    </tr>\n",
       "    <tr>\n",
       "      <th>4</th>\n",
       "      <td>2022-04-19 18:44:14</td>\n",
       "      <td>00:01:19</td>\n",
       "      <td>Season 2 Trailer: Animal</td>\n",
       "    </tr>\n",
       "  </tbody>\n",
       "</table>\n",
       "</div>"
      ],
      "text/plain": [
       "            Start Time  Duration  \\\n",
       "0  2022-04-23 22:59:54  00:24:36   \n",
       "1  2022-04-23 22:58:54  00:00:05   \n",
       "2  2022-04-22 11:35:05  01:49:05   \n",
       "3  2022-04-19 18:45:36  00:01:31   \n",
       "4  2022-04-19 18:44:14  00:01:19   \n",
       "\n",
       "                                               Title  \n",
       "0  Fresh, Fried & Crispy: Season 1: St. Louis (Ep...  \n",
       "1  Limited Series Informative Clip: Anatomy of a ...  \n",
       "2                                     Justice League  \n",
       "3                      Season 1 Trailer: Is It Cake?  \n",
       "4                           Season 2 Trailer: Animal  "
      ]
     },
     "execution_count": 38,
     "metadata": {},
     "output_type": "execute_result"
    }
   ],
   "source": [
    "df.head()\n"
   ]
  },
  {
   "cell_type": "code",
   "execution_count": 26,
   "id": "efd49b9f",
   "metadata": {},
   "outputs": [
    {
     "data": {
      "text/plain": [
       "(5575, 3)"
      ]
     },
     "execution_count": 26,
     "metadata": {},
     "output_type": "execute_result"
    }
   ],
   "source": [
    "df.shape"
   ]
  },
  {
   "cell_type": "code",
   "execution_count": 41,
   "id": "6bcc3c85",
   "metadata": {},
   "outputs": [
    {
     "data": {
      "text/plain": [
       "Start Time    object\n",
       "Duration      object\n",
       "Title         object\n",
       "dtype: object"
      ]
     },
     "execution_count": 41,
     "metadata": {},
     "output_type": "execute_result"
    }
   ],
   "source": [
    "df.dtypes"
   ]
  },
  {
   "cell_type": "markdown",
   "id": "ca539349",
   "metadata": {},
   "source": [
    "### This shows that all datatypes are objects(strings). Need to convert to times"
   ]
  },
  {
   "cell_type": "code",
   "execution_count": 50,
   "id": "dba23306",
   "metadata": {},
   "outputs": [],
   "source": [
    "df[\"Start Time\"] = pd.to_datetime(df[\"Start Time\"], utc=True)"
   ]
  },
  {
   "cell_type": "code",
   "execution_count": 51,
   "id": "d9e2b2cb",
   "metadata": {},
   "outputs": [
    {
     "data": {
      "text/plain": [
       "Start Time    datetime64[ns, UTC]\n",
       "Duration                   object\n",
       "Title                      object\n",
       "dtype: object"
      ]
     },
     "execution_count": 51,
     "metadata": {},
     "output_type": "execute_result"
    }
   ],
   "source": [
    "df.dtypes"
   ]
  },
  {
   "cell_type": "markdown",
   "id": "b25b6b65",
   "metadata": {},
   "source": [
    "### duration isn't a specific time but rather an time delta, hence use the pandas function"
   ]
  },
  {
   "cell_type": "code",
   "execution_count": 53,
   "id": "dc9d30e8",
   "metadata": {},
   "outputs": [],
   "source": [
    "df[\"Duration\"] = pd.to_timedelta(df[\"Duration\"])"
   ]
  },
  {
   "cell_type": "code",
   "execution_count": 54,
   "id": "b30cf972",
   "metadata": {},
   "outputs": [
    {
     "data": {
      "text/plain": [
       "Start Time    datetime64[ns, UTC]\n",
       "Duration          timedelta64[ns]\n",
       "Title                      object\n",
       "dtype: object"
      ]
     },
     "execution_count": 54,
     "metadata": {},
     "output_type": "execute_result"
    }
   ],
   "source": [
    "df.dtypes"
   ]
  },
  {
   "cell_type": "code",
   "execution_count": 55,
   "id": "d252897f",
   "metadata": {},
   "outputs": [
    {
     "name": "stdout",
     "output_type": "stream",
     "text": [
      "['Fresh, Fried & Crispy: Season 1: St. Louis (Episode 1)'\n",
      " 'Limited Series Informative Clip: Anatomy of a Scandal' 'Justice League'\n",
      " ...\n",
      " 'Star Trek: The Next Generation: Season 1: Where No One Has Gone Before (Episode 5)'\n",
      " 'Star Trek: The Next Generation: Season 1: The Last Outpost (Episode 4)'\n",
      " 'Star Trek: The Next Generation: Season 1: Code of Honor (Episode 3)']\n"
     ]
    }
   ],
   "source": [
    "print(df[\"Title\"].unique())"
   ]
  },
  {
   "cell_type": "markdown",
   "id": "879f190d",
   "metadata": {},
   "source": [
    "# Practice analysis:\n",
    "\n",
    "## Times spent watching Star Trek:The Next Generation"
   ]
  },
  {
   "cell_type": "markdown",
   "id": "2da36154",
   "metadata": {},
   "source": [
    "#### Title is unique for each episode of Star Trek:The Next Generation, so need to flilter out all values that contain the string \"Star Trek:The Next Generation\""
   ]
  },
  {
   "cell_type": "code",
   "execution_count": 59,
   "id": "26ef84f1",
   "metadata": {},
   "outputs": [],
   "source": [
    "TNG = df[df[\"Title\"].str.contains(\"Star Trek: The Next Generation\", regex=False)]"
   ]
  },
  {
   "cell_type": "markdown",
   "id": "bfc56ab4",
   "metadata": {},
   "source": [
    "#### Using .str.contains for to Title collumn filters out all the strings that contain the imputted words (regex=false tells function the argument is a string). We the assign this to a new df called TNG"
   ]
  },
  {
   "cell_type": "code",
   "execution_count": 61,
   "id": "2e5a4eb2",
   "metadata": {},
   "outputs": [
    {
     "data": {
      "text/html": [
       "<div>\n",
       "<style scoped>\n",
       "    .dataframe tbody tr th:only-of-type {\n",
       "        vertical-align: middle;\n",
       "    }\n",
       "\n",
       "    .dataframe tbody tr th {\n",
       "        vertical-align: top;\n",
       "    }\n",
       "\n",
       "    .dataframe thead th {\n",
       "        text-align: right;\n",
       "    }\n",
       "</style>\n",
       "<table border=\"1\" class=\"dataframe\">\n",
       "  <thead>\n",
       "    <tr style=\"text-align: right;\">\n",
       "      <th></th>\n",
       "      <th>Start Time</th>\n",
       "      <th>Duration</th>\n",
       "      <th>Title</th>\n",
       "    </tr>\n",
       "  </thead>\n",
       "  <tbody>\n",
       "    <tr>\n",
       "      <th>102</th>\n",
       "      <td>2022-03-20 22:09:36+00:00</td>\n",
       "      <td>0 days 00:00:05</td>\n",
       "      <td>Star Trek: The Next Generation: Season 1_hook_...</td>\n",
       "    </tr>\n",
       "    <tr>\n",
       "      <th>231</th>\n",
       "      <td>2022-02-14 21:36:09+00:00</td>\n",
       "      <td>0 days 00:00:09</td>\n",
       "      <td>Star Trek: The Next Generation: Season 1_hook_...</td>\n",
       "    </tr>\n",
       "    <tr>\n",
       "      <th>2854</th>\n",
       "      <td>2020-11-27 22:52:07+00:00</td>\n",
       "      <td>0 days 00:08:28</td>\n",
       "      <td>Star Trek: The Next Generation: Season 7: The ...</td>\n",
       "    </tr>\n",
       "    <tr>\n",
       "      <th>2947</th>\n",
       "      <td>2020-11-21 13:01:48+00:00</td>\n",
       "      <td>0 days 00:33:45</td>\n",
       "      <td>Star Trek: The Next Generation: Season 7: Forc...</td>\n",
       "    </tr>\n",
       "    <tr>\n",
       "      <th>3194</th>\n",
       "      <td>2020-10-28 22:13:56+00:00</td>\n",
       "      <td>0 days 00:00:05</td>\n",
       "      <td>Star Trek: The Next Generation: Season 1_hook_...</td>\n",
       "    </tr>\n",
       "  </tbody>\n",
       "</table>\n",
       "</div>"
      ],
      "text/plain": [
       "                    Start Time        Duration  \\\n",
       "102  2022-03-20 22:09:36+00:00 0 days 00:00:05   \n",
       "231  2022-02-14 21:36:09+00:00 0 days 00:00:09   \n",
       "2854 2020-11-27 22:52:07+00:00 0 days 00:08:28   \n",
       "2947 2020-11-21 13:01:48+00:00 0 days 00:33:45   \n",
       "3194 2020-10-28 22:13:56+00:00 0 days 00:00:05   \n",
       "\n",
       "                                                  Title  \n",
       "102   Star Trek: The Next Generation: Season 1_hook_...  \n",
       "231   Star Trek: The Next Generation: Season 1_hook_...  \n",
       "2854  Star Trek: The Next Generation: Season 7: The ...  \n",
       "2947  Star Trek: The Next Generation: Season 7: Forc...  \n",
       "3194  Star Trek: The Next Generation: Season 1_hook_...  "
      ]
     },
     "execution_count": 61,
     "metadata": {},
     "output_type": "execute_result"
    }
   ],
   "source": [
    "TNG.head()"
   ]
  },
  {
   "cell_type": "markdown",
   "id": "a1f30db7",
   "metadata": {},
   "source": [
    "#### Duration includes autoplays when browsing through Netflix, so we should filter these out (lets say anything < 1 min"
   ]
  },
  {
   "cell_type": "code",
   "execution_count": 65,
   "id": "02e22a21",
   "metadata": {},
   "outputs": [],
   "source": [
    "TNG_filtered = TNG[(TNG[\"Duration\"] > \"0 days 00:01:00\")]"
   ]
  },
  {
   "cell_type": "code",
   "execution_count": 66,
   "id": "78b499da",
   "metadata": {},
   "outputs": [
    {
     "data": {
      "text/html": [
       "<div>\n",
       "<style scoped>\n",
       "    .dataframe tbody tr th:only-of-type {\n",
       "        vertical-align: middle;\n",
       "    }\n",
       "\n",
       "    .dataframe tbody tr th {\n",
       "        vertical-align: top;\n",
       "    }\n",
       "\n",
       "    .dataframe thead th {\n",
       "        text-align: right;\n",
       "    }\n",
       "</style>\n",
       "<table border=\"1\" class=\"dataframe\">\n",
       "  <thead>\n",
       "    <tr style=\"text-align: right;\">\n",
       "      <th></th>\n",
       "      <th>Start Time</th>\n",
       "      <th>Duration</th>\n",
       "      <th>Title</th>\n",
       "    </tr>\n",
       "  </thead>\n",
       "  <tbody>\n",
       "    <tr>\n",
       "      <th>2854</th>\n",
       "      <td>2020-11-27 22:52:07+00:00</td>\n",
       "      <td>0 days 00:08:28</td>\n",
       "      <td>Star Trek: The Next Generation: Season 7: The ...</td>\n",
       "    </tr>\n",
       "    <tr>\n",
       "      <th>2947</th>\n",
       "      <td>2020-11-21 13:01:48+00:00</td>\n",
       "      <td>0 days 00:33:45</td>\n",
       "      <td>Star Trek: The Next Generation: Season 7: Forc...</td>\n",
       "    </tr>\n",
       "    <tr>\n",
       "      <th>3195</th>\n",
       "      <td>2020-10-28 21:30:38+00:00</td>\n",
       "      <td>0 days 00:42:10</td>\n",
       "      <td>Star Trek: The Next Generation: Season 7: Dark...</td>\n",
       "    </tr>\n",
       "    <tr>\n",
       "      <th>3198</th>\n",
       "      <td>2020-10-27 23:54:33+00:00</td>\n",
       "      <td>0 days 00:42:22</td>\n",
       "      <td>Star Trek: The Next Generation: Season 7: Phan...</td>\n",
       "    </tr>\n",
       "    <tr>\n",
       "      <th>3199</th>\n",
       "      <td>2020-10-27 23:11:30+00:00</td>\n",
       "      <td>0 days 00:42:26</td>\n",
       "      <td>Star Trek: The Next Generation: Season 7: Liai...</td>\n",
       "    </tr>\n",
       "  </tbody>\n",
       "</table>\n",
       "</div>"
      ],
      "text/plain": [
       "                    Start Time        Duration  \\\n",
       "2854 2020-11-27 22:52:07+00:00 0 days 00:08:28   \n",
       "2947 2020-11-21 13:01:48+00:00 0 days 00:33:45   \n",
       "3195 2020-10-28 21:30:38+00:00 0 days 00:42:10   \n",
       "3198 2020-10-27 23:54:33+00:00 0 days 00:42:22   \n",
       "3199 2020-10-27 23:11:30+00:00 0 days 00:42:26   \n",
       "\n",
       "                                                  Title  \n",
       "2854  Star Trek: The Next Generation: Season 7: The ...  \n",
       "2947  Star Trek: The Next Generation: Season 7: Forc...  \n",
       "3195  Star Trek: The Next Generation: Season 7: Dark...  \n",
       "3198  Star Trek: The Next Generation: Season 7: Phan...  \n",
       "3199  Star Trek: The Next Generation: Season 7: Liai...  "
      ]
     },
     "execution_count": 66,
     "metadata": {},
     "output_type": "execute_result"
    }
   ],
   "source": [
    "TNG_filtered.head()"
   ]
  },
  {
   "cell_type": "markdown",
   "id": "f354af0a",
   "metadata": {},
   "source": [
    "#### Now we can sum up the duration collumn"
   ]
  },
  {
   "cell_type": "code",
   "execution_count": 67,
   "id": "11554f6d",
   "metadata": {},
   "outputs": [
    {
     "data": {
      "text/plain": [
       "Timedelta('7 days 01:50:31')"
      ]
     },
     "execution_count": 67,
     "metadata": {},
     "output_type": "execute_result"
    }
   ],
   "source": [
    "TNG_filtered[\"Duration\"].sum()"
   ]
  },
  {
   "cell_type": "code",
   "execution_count": null,
   "id": "22237053",
   "metadata": {},
   "outputs": [],
   "source": []
  }
 ],
 "metadata": {
  "kernelspec": {
   "display_name": "Python 3 (ipykernel)",
   "language": "python",
   "name": "python3"
  },
  "language_info": {
   "codemirror_mode": {
    "name": "ipython",
    "version": 3
   },
   "file_extension": ".py",
   "mimetype": "text/x-python",
   "name": "python",
   "nbconvert_exporter": "python",
   "pygments_lexer": "ipython3",
   "version": "3.10.4"
  }
 },
 "nbformat": 4,
 "nbformat_minor": 5
}
